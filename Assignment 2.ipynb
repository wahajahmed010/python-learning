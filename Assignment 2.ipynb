{
 "cells": [
  {
   "cell_type": "code",
   "execution_count": 6,
   "metadata": {},
   "outputs": [
    {
     "name": "stdout",
     "output_type": "stream",
     "text": [
      "Enter Marks out of 100\n",
      "Enter 1st Subject's Marks 71\n",
      "Enter 2nd Subject's Marks 61\n",
      "Enter 3rd Subject's Marks 51\n",
      "Enter 4th Subject's Marks 71\n",
      "Enter 5th Subject's Marks 71\n",
      "65.0%\n",
      "Grade C\n"
     ]
    }
   ],
   "source": [
    "print(\"Enter Marks out of 100\");\n",
    "sub1 = int(input(\"Enter 1st Subject's Marks \"));\n",
    "sub2 = int(input(\"Enter 2nd Subject's Marks \"));\n",
    "sub3 = int(input(\"Enter 3rd Subject's Marks \"));\n",
    "sub4 = int(input(\"Enter 4th Subject's Marks \"));\n",
    "sub5 = int(input(\"Enter 5th Subject's Marks \"));\n",
    "total = sub1+sub2+sub3+sub4+sub5\n",
    "percent = 0;\n",
    "if total > 500:\n",
    "    print(\"Error: Total marks can't be more than 500\");\n",
    "else:\n",
    "    percent = (total/500)*100\n",
    "    percent = round(percent,2)\n",
    "    print(str(percent) + \"%\")\n",
    "\n",
    "if percent >= 80:\n",
    "    print(\"Grade A\")\n",
    "elif (percent >= 70) and (percent < 80):\n",
    "    print(\"Grade B\")\n",
    "elif (percent >=60) and (percent < 70):\n",
    "    print(\"Grade C\")\n",
    "elif (percent >= 50) and (percent < 60):\n",
    "    print(\"Grade D\")\n",
    "else:\n",
    "    print(\"Fail\")"
   ]
  },
  {
   "cell_type": "code",
   "execution_count": 8,
   "metadata": {},
   "outputs": [
    {
     "name": "stdout",
     "output_type": "stream",
     "text": [
      "Enter a number: 43\n",
      "Odd!\n"
     ]
    }
   ],
   "source": [
    "number = int(input(\"Enter a number: \"))\n",
    "if number%2 == 0:\n",
    "    print(\"Even!\")\n",
    "else:\n",
    "    print(\"Odd!\")"
   ]
  },
  {
   "cell_type": "code",
   "execution_count": 9,
   "metadata": {},
   "outputs": [
    {
     "name": "stdout",
     "output_type": "stream",
     "text": [
      "13\n"
     ]
    }
   ],
   "source": [
    "a = [2,31,3,1,3,1,1,2,4,2,1,5,1]\n",
    "print(len(a))"
   ]
  },
  {
   "cell_type": "code",
   "execution_count": 10,
   "metadata": {},
   "outputs": [
    {
     "name": "stdout",
     "output_type": "stream",
     "text": [
      "232\n"
     ]
    }
   ],
   "source": [
    "numbers = [1, 1, 2, 3, 5, 8, 13, 21, 34, 55, 89]\n",
    "sum = 0;\n",
    "for number in numbers:\n",
    "    sum += number\n",
    "print(sum)\n"
   ]
  },
  {
   "cell_type": "code",
   "execution_count": 27,
   "metadata": {},
   "outputs": [
    {
     "name": "stdout",
     "output_type": "stream",
     "text": [
      "301\n"
     ]
    }
   ],
   "source": [
    "numbers = [102, 21, 92, 301, 51, 8, 13, 21, 34, 55, 89]\n",
    "numbers.sort()\n",
    "a = numbers.pop()\n",
    "# a = numbers[-1]\n",
    "print(a)"
   ]
  },
  {
   "cell_type": "code",
   "execution_count": 30,
   "metadata": {},
   "outputs": [
    {
     "name": "stdout",
     "output_type": "stream",
     "text": [
      "1\n",
      "1\n",
      "2\n",
      "3\n"
     ]
    }
   ],
   "source": [
    "numbers = [1, 1, 2, 3, 5, 8, 13, 21, 34, 55, 89]\n",
    "for number in numbers:\n",
    "    if number < 5:\n",
    "        print(number)"
   ]
  },
  {
   "cell_type": "code",
   "execution_count": null,
   "metadata": {},
   "outputs": [],
   "source": []
  }
 ],
 "metadata": {
  "kernelspec": {
   "display_name": "Python 3",
   "language": "python",
   "name": "python3"
  },
  "language_info": {
   "codemirror_mode": {
    "name": "ipython",
    "version": 3
   },
   "file_extension": ".py",
   "mimetype": "text/x-python",
   "name": "python",
   "nbconvert_exporter": "python",
   "pygments_lexer": "ipython3",
   "version": "3.7.4"
  }
 },
 "nbformat": 4,
 "nbformat_minor": 2
}
