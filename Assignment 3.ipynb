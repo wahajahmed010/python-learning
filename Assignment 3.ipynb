{
 "cells": [
  {
   "cell_type": "code",
   "execution_count": 4,
   "metadata": {},
   "outputs": [
    {
     "name": "stdout",
     "output_type": "stream",
     "text": [
      "enter value 1: 2\n",
      "enter value 2: 3\n",
      "Select operator: '*', '+', '-', '/'\n",
      "Please select the operater: +\n",
      "5\n"
     ]
    }
   ],
   "source": [
    "a = int(input(\"enter value 1: \"))\n",
    "b = int(input(\"enter value 2: \"))\n",
    "print(\"Select operator: '*', '+', '-', '/'\")\n",
    "sign = input(\"Please select the operater: \")\n",
    "if sign == '*':\n",
    "    print(a*b)\n",
    "elif sign == '/':\n",
    "    print(a/b)\n",
    "elif sign == '+':\n",
    "    print(a+b)\n",
    "elif sign == '-':\n",
    "    print(a-b)\n",
    "else:\n",
    "    print(\"wrong input\")"
   ]
  },
  {
   "cell_type": "code",
   "execution_count": 8,
   "metadata": {},
   "outputs": [
    {
     "name": "stdout",
     "output_type": "stream",
     "text": [
      "[1, 24, 55, 12]\n"
     ]
    }
   ],
   "source": [
    "values = ['a', '1', '24', 'hello', '55', '12']\n",
    "mylist = []\n",
    "for value in values:\n",
    "    if value.isdigit():\n",
    "        mylist.append(int(value))\n",
    "print(mylist)"
   ]
  },
  {
   "cell_type": "code",
   "execution_count": 10,
   "metadata": {},
   "outputs": [
    {
     "name": "stdout",
     "output_type": "stream",
     "text": [
      "{'fname': 'wahaj', 'lname': 'ahmed', 'religion': 'Islam'}\n"
     ]
    }
   ],
   "source": [
    "about = {\n",
    "    'fname': 'wahaj',\n",
    "    'lname': 'ahmed'}\n",
    "about['religion'] = 'Islam'\n",
    "print(about)"
   ]
  },
  {
   "cell_type": "code",
   "execution_count": null,
   "metadata": {},
   "outputs": [],
   "source": []
  },
  {
   "cell_type": "code",
   "execution_count": 29,
   "metadata": {},
   "outputs": [
    {
     "name": "stdout",
     "output_type": "stream",
     "text": [
      "7\n"
     ]
    }
   ],
   "source": [
    "ranks = {\n",
    "    'first': '1',\n",
    "    'second': '2',\n",
    "    'third': 'three',\n",
    "    'fourth': '4'\n",
    "}\n",
    "sum = 0\n",
    "for key, value in ranks.items():\n",
    "    if value.isdigit():\n",
    "        val = int(value)\n",
    "        sum+=val\n",
    "        \n",
    "print(sum)        \n",
    "    "
   ]
  },
  {
   "cell_type": "code",
   "execution_count": 48,
   "metadata": {},
   "outputs": [
    {
     "name": "stdout",
     "output_type": "stream",
     "text": [
      "Duplication exists!\n"
     ]
    }
   ],
   "source": [
    "mylist = [2,5,55,2,45,3,5,1,3]\n",
    "duplication_exists = False\n",
    "for value in mylist:\n",
    "    if mylist.count(value) > 1:\n",
    "        duplication_exists = True\n",
    "        break\n",
    "if duplication_exists:\n",
    "    print(\"Duplication exists!\")\n",
    "else:\n",
    "    print(\"No Duplication found!\")\n"
   ]
  },
  {
   "cell_type": "code",
   "execution_count": 51,
   "metadata": {},
   "outputs": [
    {
     "name": "stdout",
     "output_type": "stream",
     "text": [
      "Key exists!\n"
     ]
    }
   ],
   "source": [
    "about = {\n",
    "    'fname': 'wahaj',\n",
    "    'lname': 'ahmed'}\n",
    "new_key = 'fname'\n",
    "mylist = []\n",
    "\n",
    "for key in about.keys():\n",
    "    mylist.append(key)\n",
    "    \n",
    "for value in mylist:\n",
    "    if mylist.count(value) > 1:\n",
    "        duplication_exists = True\n",
    "        break\n",
    "if duplication_exists:\n",
    "    print(\"Key exists!\")\n",
    "else:\n",
    "    print(\"Key does not exist!\")\n"
   ]
  },
  {
   "cell_type": "code",
   "execution_count": null,
   "metadata": {},
   "outputs": [],
   "source": []
  }
 ],
 "metadata": {
  "kernelspec": {
   "display_name": "Python 3",
   "language": "python",
   "name": "python3"
  },
  "language_info": {
   "codemirror_mode": {
    "name": "ipython",
    "version": 3
   },
   "file_extension": ".py",
   "mimetype": "text/x-python",
   "name": "python",
   "nbconvert_exporter": "python",
   "pygments_lexer": "ipython3",
   "version": "3.7.4"
  }
 },
 "nbformat": 4,
 "nbformat_minor": 2
}
