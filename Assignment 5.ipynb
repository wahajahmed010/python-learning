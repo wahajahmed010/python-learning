{
 "cells": [
  {
   "cell_type": "code",
   "execution_count": 8,
   "metadata": {},
   "outputs": [
    {
     "name": "stdout",
     "output_type": "stream",
     "text": [
      "Enter the number 5\n",
      "120\n"
     ]
    }
   ],
   "source": [
    "def calculatefactorial(num):\n",
    "    factorial = 1\n",
    "    while(num > 0):\n",
    "        factorial = num*factorial\n",
    "        num = num-1\n",
    "    return factorial\n",
    "\n",
    "num = int(input(\"Enter the number \"))\n",
    "\n",
    "\n",
    "print(calculatefactorial(num))"
   ]
  },
  {
   "cell_type": "code",
   "execution_count": 11,
   "metadata": {},
   "outputs": [
    {
     "name": "stdout",
     "output_type": "stream",
     "text": [
      "Entry: My name is Wahaj Ahmed\n",
      "3  uppercase letters\n",
      "19  lowercase letters\n"
     ]
    }
   ],
   "source": [
    "def upperlower(entry):\n",
    "    upper = 0\n",
    "    lower = 0\n",
    "    for e in entry:\n",
    "        if(e.isupper()):\n",
    "            upper += 1\n",
    "        else:\n",
    "            lower += 1\n",
    "    print(upper, \" uppercase letters\")\n",
    "    print(lower, \" lowercase letters\")\n",
    "    \n",
    "word = input(\"Entry: \")\n",
    "upperlower(word)"
   ]
  },
  {
   "cell_type": "code",
   "execution_count": 12,
   "metadata": {},
   "outputs": [
    {
     "name": "stdout",
     "output_type": "stream",
     "text": [
      "[2, 4, 6, 8, 10]\n"
     ]
    }
   ],
   "source": [
    "def evennum(enteries):\n",
    "    even = []\n",
    "    for entry in enteries:\n",
    "        if(entry%2 == 0):\n",
    "            even.append(entry)\n",
    "    print(even)\n",
    "\n",
    "enteries = [1,2,3,4,5,6,7,8,9,10]\n",
    "evennum(enteries)\n",
    "        "
   ]
  },
  {
   "cell_type": "code",
   "execution_count": 16,
   "metadata": {},
   "outputs": [
    {
     "name": "stdout",
     "output_type": "stream",
     "text": [
      "Enter a word to check palindrome: Racecar\n",
      "Palidrome!\n"
     ]
    }
   ],
   "source": [
    "def palindrome(entry):\n",
    "    entry = entry.lower()\n",
    "    if(entry == entry[::-1]):\n",
    "        return True\n",
    "    else:\n",
    "        return False\n",
    "\n",
    "word = input(\"Enter a word to check palindrome: \")\n",
    "if(palindrome(word)):\n",
    "    print(\"Palidrome!\")\n",
    "else:\n",
    "    print(\"Not Palindrome!\")"
   ]
  },
  {
   "cell_type": "code",
   "execution_count": 25,
   "metadata": {},
   "outputs": [
    {
     "name": "stdout",
     "output_type": "stream",
     "text": [
      "Enter a Number: 7\n",
      "Its a Prime!\n"
     ]
    }
   ],
   "source": [
    "def prime(num):\n",
    "    prime = True\n",
    "    if num > 0:\n",
    "        i = num-1\n",
    "        for i in range(2,num):\n",
    "            if(num%i) == 0:\n",
    "                prime = False\n",
    "                break\n",
    "            else:\n",
    "                prime = True\n",
    "                i -= 1\n",
    "    else:\n",
    "        print(\"Not a Prime!\")\n",
    "    return prime\n",
    "\n",
    "num = int(input(\"Enter a Number: \"))\n",
    "if(prime(num)):\n",
    "    print(\"Its a Prime!\")\n",
    "else:\n",
    "    print(\"Not a Prime!\")"
   ]
  },
  {
   "cell_type": "code",
   "execution_count": 31,
   "metadata": {},
   "outputs": [
    {
     "name": "stdout",
     "output_type": "stream",
     "text": [
      "Bought butter for Rs. 50\n",
      "Bought milk for Rs. 80\n",
      "Bought bread for Rs. 30\n"
     ]
    }
   ],
   "source": [
    "def printitems(shopitems):\n",
    "    for key,value in shopitems.items():\n",
    "        print(\"Bought\", key, \"for Rs.\", value)\n",
    "\n",
    "\n",
    "shopitems = {\"butter\": 50, \"milk\": 80, \"bread\": 30}\n",
    "printitems(shopitems)\n"
   ]
  },
  {
   "cell_type": "code",
   "execution_count": null,
   "metadata": {},
   "outputs": [],
   "source": []
  }
 ],
 "metadata": {
  "kernelspec": {
   "display_name": "Python 3",
   "language": "python",
   "name": "python3"
  },
  "language_info": {
   "codemirror_mode": {
    "name": "ipython",
    "version": 3
   },
   "file_extension": ".py",
   "mimetype": "text/x-python",
   "name": "python",
   "nbconvert_exporter": "python",
   "pygments_lexer": "ipython3",
   "version": "3.7.4"
  }
 },
 "nbformat": 4,
 "nbformat_minor": 2
}
