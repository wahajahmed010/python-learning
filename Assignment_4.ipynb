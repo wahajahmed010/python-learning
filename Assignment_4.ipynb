{
 "cells": [
  {
   "cell_type": "code",
   "execution_count": 7,
   "metadata": {},
   "outputs": [
    {
     "name": "stdout",
     "output_type": "stream",
     "text": [
      "fname :  wahaj\n",
      "lname :  ahmed\n",
      "age :  23\n",
      "\n",
      "With Qualification:\n",
      "fname :  wahaj\n",
      "lname :  ahmed\n",
      "age :  23\n",
      "qualification :  intermediate\n",
      "\n",
      "With Updated Qualification:\n",
      "fname :  wahaj\n",
      "lname :  ahmed\n",
      "age :  23\n",
      "qualification :  bachelors\n",
      "\n",
      "Without Qualification:\n",
      "fname :  wahaj\n",
      "lname :  ahmed\n",
      "age :  23\n"
     ]
    }
   ],
   "source": [
    "info = {\n",
    "    'fname': 'wahaj',\n",
    "    'lname': 'ahmed',\n",
    "    'age': 23,    \n",
    "}\n",
    "\n",
    "for key,value in info.items():\n",
    "    print(key, ': ', value)\n",
    "    \n",
    "print(\"\\nWith Qualification:\")\n",
    "info['qualification'] = 'intermediate'\n",
    "for key,value in info.items():\n",
    "    print(key, ': ', value)\n",
    "    \n",
    "print(\"\\nWith Updated Qualification:\")\n",
    "info['qualification'] = 'bachelors'\n",
    "for key,value in info.items():\n",
    "    print(key, ': ', value)\n",
    "\n",
    "print(\"\\nWithout Qualification:\")    \n",
    "del info['qualification']\n",
    "for key,value in info.items():\n",
    "    print(key, ': ', value)"
   ]
  },
  {
   "cell_type": "code",
   "execution_count": 13,
   "metadata": {},
   "outputs": [
    {
     "name": "stdout",
     "output_type": "stream",
     "text": [
      "Karachi: \n",
      "Country: Pakistan\n",
      "Population: 20 Million\n",
      "Fact: Financial Capital Of The Country\n",
      "\n",
      "Sydney: \n",
      "Country: Australia\n",
      "Population: 7 Million\n",
      "Fact: Capital Of The Country\n",
      "\n",
      "Paris: \n",
      "Country: France\n",
      "Population: 5 Million\n",
      "Fact: Home Of The Iconic Eiffel Tower\n"
     ]
    }
   ],
   "source": [
    "cities = { \n",
    "    'karachi': {'country': 'pakistan', 'population': '20 million', 'fact': 'Financial capital of the country'},\n",
    "    'sydney': {'country': 'australia', 'population': '7 million', 'fact': 'Capital of the country'},\n",
    "    'paris': {'country': 'france', 'population': '5 million', 'fact': 'Home of the iconic Eiffel Tower'}\n",
    "}\n",
    "print(\"Karachi: \")\n",
    "for key,value in cities['karachi'].items():\n",
    "    print(key.title() + ': ' + value.title())\n",
    "\n",
    "print(\"\\nSydney: \")\n",
    "for key,value in cities['sydney'].items():\n",
    "    print(key.title() + ': ' + value.title())\n",
    "\n",
    "print(\"\\nParis: \")    \n",
    "for key,value in cities['paris'].items():\n",
    "    print(key.title() + ': ' + value.title())"
   ]
  },
  {
   "cell_type": "code",
   "execution_count": 3,
   "metadata": {},
   "outputs": [
    {
     "name": "stdout",
     "output_type": "stream",
     "text": [
      "Enter age: 2\n",
      "The ticket is free! :)\n",
      "Enter age: 7\n",
      "Please pay $10\n",
      "Enter age: 31\n",
      "Please pay $15\n",
      "Enter age: 0\n",
      "Closing the program..\n"
     ]
    }
   ],
   "source": [
    "while(1):\n",
    "    age = int(input(\"Enter age: \"))\n",
    "    if age > 0 and age < 3:\n",
    "        print(\"The ticket is free! :)\")\n",
    "    elif age >= 3 and age <= 12:\n",
    "        print(\"Please pay $10\")\n",
    "    elif age > 12:\n",
    "        print(\"Please pay $15\")\n",
    "    elif age == 0:\n",
    "        print(\"Closing the program..\")\n",
    "        break\n",
    "    else:\n",
    "        print(\"Invalid Input\")"
   ]
  },
  {
   "cell_type": "code",
   "execution_count": 15,
   "metadata": {},
   "outputs": [
    {
     "name": "stdout",
     "output_type": "stream",
     "text": [
      "Enter your favorite book: Alice in Wonderland\n",
      "My Favorite book is Alice in Wonderland\n"
     ]
    }
   ],
   "source": [
    "def favorite_book(bookname):\n",
    "    print(\"My Favorite book is \" + bookname)\n",
    "\n",
    "favorite_book(input(\"Enter your favorite book: \"))"
   ]
  },
  {
   "cell_type": "code",
   "execution_count": 2,
   "metadata": {},
   "outputs": [
    {
     "name": "stdout",
     "output_type": "stream",
     "text": [
      "19\n",
      "Guess the number!21\n",
      "Wrong guess.. :/\n",
      "you have  2  turn(s) left\n",
      "Guess the number!11\n",
      "Wrong guess.. :/\n",
      "you have  1  turn(s) left\n",
      "Guess the number!19\n",
      "You Won!\n"
     ]
    }
   ],
   "source": [
    "import random\n",
    "num = random.randrange(1,30,2)\n",
    "guessed = False\n",
    "i = 3\n",
    "#print(num)\n",
    "while(i>0):\n",
    "    i-=1\n",
    "    a = int(input(\"Guess the number!\"))\n",
    "    if a == num:\n",
    "        guessed = True\n",
    "        break\n",
    "    else:\n",
    "        print(\"Wrong guess.. :/\")\n",
    "        print(\"you have \", i, \" turn(s) left\")\n",
    "    \n",
    "if guessed:\n",
    "    print(\"You Won!\")\n",
    "else:\n",
    "    print(\"You Lost!\")"
   ]
  },
  {
   "cell_type": "code",
   "execution_count": null,
   "metadata": {},
   "outputs": [],
   "source": []
  },
  {
   "cell_type": "code",
   "execution_count": null,
   "metadata": {},
   "outputs": [],
   "source": []
  }
 ],
 "metadata": {
  "kernelspec": {
   "display_name": "Python 3",
   "language": "python",
   "name": "python3"
  },
  "language_info": {
   "codemirror_mode": {
    "name": "ipython",
    "version": 3
   },
   "file_extension": ".py",
   "mimetype": "text/x-python",
   "name": "python",
   "nbconvert_exporter": "python",
   "pygments_lexer": "ipython3",
   "version": "3.7.4"
  }
 },
 "nbformat": 4,
 "nbformat_minor": 2
}
